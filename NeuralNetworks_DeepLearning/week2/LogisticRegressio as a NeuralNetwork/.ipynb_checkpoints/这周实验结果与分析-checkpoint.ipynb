{
 "cells": [
  {
   "cell_type": "markdown",
   "metadata": {},
   "source": [
    "# 这周实验结果与分析\n"
   ]
  },
  {
   "cell_type": "markdown",
   "metadata": {},
   "source": [
    "## 一.机器学习第五周的神经网络学习的编程作业"
   ]
  },
  {
   "cell_type": "markdown",
   "metadata": {},
   "source": [
    "### 1.对于多分类问题，首先将标签y处理成一个矩阵，且每个元素的值为０或１\n",
    "<img style=\"float: left;\" src=\"images/1.png\">"
   ]
  },
  {
   "cell_type": "markdown",
   "metadata": {
    "collapsed": true
   },
   "source": [
    "### 2.先正向传播训练出预测值h，这里有costFunction和Regularized costFunction的结果\n",
    "<img style=\"float: left;\" src=\"images/4.png\">\n",
    "<img style=\"float: left;\" src=\"images/2.png\">\n",
    "<img style=\"float: left;\" src=\"images/3.png\">"
   ]
  },
  {
   "cell_type": "markdown",
   "metadata": {},
   "source": [
    "### 3.反向传播求参数的正则化梯度，然后使用优化算法‘TNC’，去寻找使代价函数达到最小值是的参数。\n",
    "<img style=\"float: left;\" src=\"images/5.png\">"
   ]
  },
  {
   "cell_type": "markdown",
   "metadata": {},
   "source": [
    "### 4.该算法的准确率\n",
    "<img style=\"float: left;\" src=\"images/6.png\">"
   ]
  },
  {
   "cell_type": "markdown",
   "metadata": {},
   "source": [
    "## 二.深度学习第二周作业：\n",
    "Logistic Regression with a Neural Network mindset  \n"
   ]
  },
  {
   "cell_type": "markdown",
   "metadata": {},
   "source": [
    "### 1.首先把训练集和测试集的维度处理一下\n",
    "<img style=\"float: left;\" src=\"images/7.png\">\n",
    "<img style=\"float: left;\" src=\"images/8.png\">"
   ]
  },
  {
   "cell_type": "markdown",
   "metadata": {},
   "source": [
    "### 2.这里使用的是梯度下降算法去训练参数，结果如下图：\n",
    "<img style=\"float: left;\" src=\"images/9.png\">\n",
    "**分析结果：**(1):这里训练集的准确率达到了99%，是因为过拟合造成的。如果使用正则化可以减少过拟合。(2):测试集的准确率是70%，有点低，原因是采用了小数据集和逻辑回归的一个线性分类器。"
   ]
  },
  {
   "cell_type": "code",
   "execution_count": null,
   "metadata": {
    "collapsed": true
   },
   "outputs": [],
   "source": []
  }
 ],
 "metadata": {
  "kernelspec": {
   "display_name": "Python 3",
   "language": "python",
   "name": "python3"
  },
  "language_info": {
   "codemirror_mode": {
    "name": "ipython",
    "version": 3
   },
   "file_extension": ".py",
   "mimetype": "text/x-python",
   "name": "python",
   "nbconvert_exporter": "python",
   "pygments_lexer": "ipython3",
   "version": "3.6.1"
  }
 },
 "nbformat": 4,
 "nbformat_minor": 2
}
